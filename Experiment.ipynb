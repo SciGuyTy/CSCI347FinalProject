{
 "cells": [
  {
   "cell_type": "code",
   "execution_count": 10,
   "metadata": {
    "collapsed": true
   },
   "outputs": [
    {
     "name": "stdout",
     "output_type": "stream",
     "text": [
      "[[ 3.66  2.76]\n",
      " [-2.25  0.5 ]]\n",
      "[1. 1. 0. 0. 1. 1. 0. 0. 0.]\n",
      "0.65 0.6666666666666666\n"
     ]
    },
    {
     "data": {
      "text/plain": "0.6582278481012659"
     },
     "execution_count": 10,
     "metadata": {},
     "output_type": "execute_result"
    }
   ],
   "source": [
    "import numpy as np\n",
    "from algorithms.KMeans import KMeans\n",
    "from utilities.Utilities import Utilities\n",
    "\n",
    "D = np.array([[-1,2], [-2,-2], [3,2], [5,4.3], [-3,3], [-3, -1], [5,-3], [3,4], [2.3, 6.5]])\n",
    "\n",
    "GT = np.array([1., 1., 1., 1., 1., 1., 1., 1., 1.])\n",
    "\n",
    "transformer = KMeans(2, 0.000001, np.array([[3.90304975, 2.51839422], [-1.21226502 , 3.6765421]]))\n",
    "transformer.fit(D)\n",
    "\n",
    "print(transformer.centroids)\n",
    "print(transformer.cluster_assignment)\n",
    "\n",
    "Utilities.f1_score(np.array([0, 0, 1, 1, 0, 1, 1, 1, 1]), np.array([0, 0, 0, 0, 1, 1, 1, 1, 1]))\n",
    "\n",
    "\n",
    "# 5\n",
    "# 4"
   ]
  }
 ],
 "metadata": {
  "kernelspec": {
   "display_name": "Python 3",
   "language": "python",
   "name": "python3"
  },
  "language_info": {
   "codemirror_mode": {
    "name": "ipython",
    "version": 2
   },
   "file_extension": ".py",
   "mimetype": "text/x-python",
   "name": "python",
   "nbconvert_exporter": "python",
   "pygments_lexer": "ipython2",
   "version": "2.7.6"
  }
 },
 "nbformat": 4,
 "nbformat_minor": 0
}
